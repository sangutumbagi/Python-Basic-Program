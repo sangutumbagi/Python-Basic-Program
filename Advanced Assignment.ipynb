{
 "cells": [
  {
   "cell_type": "code",
   "execution_count": 3,
   "id": "d9d9f4c8",
   "metadata": {},
   "outputs": [],
   "source": [
    "1. Write a function that takes a list of lists and returns the value of all of the\n",
    "symbols in it, where each symbol adds or takes something from the total\n",
    "score. Symbol values:\n",
    "# = 5\n",
    "O = 3\n",
    "X = 1\n",
    "! = -1\n",
    "!! = -3\n",
    "!!! = -5\n",
    "A list of lists containing 2 #s, a O, and a !!! would equal (0 + 5 + 5 + 3 - 5) 8.\n",
    "If the final score is negative, return 0 (e.g. 3 #s, 3 !!s, 2 !!!s and a X would be\n",
    "(0 + 5 + 5 + 5 - 3 - 3 - 3 - 5 - 5 + 1) -3, so return 0."
   ]
  },
  {
   "cell_type": "code",
   "execution_count": 18,
   "id": "23d76941",
   "metadata": {},
   "outputs": [
    {
     "name": "stdout",
     "output_type": "stream",
     "text": [
      "2\n",
      "-1\n"
     ]
    }
   ],
   "source": [
    "def check_score(k):\n",
    "    s=0\n",
    "    for i in k:\n",
    "        for j in i:\n",
    "            if j=='#':\n",
    "                s+=5\n",
    "            elif j=='O':\n",
    "                s+=3\n",
    "            elif j=='X':\n",
    "                s+=1\n",
    "            elif j==\"!\":\n",
    "                s-=1\n",
    "            elif j=='!!':\n",
    "                s-=3\n",
    "            elif j=='!!!':\n",
    "                s-=5\n",
    "    return s\n",
    "    \n",
    "\n",
    "    \n",
    "\n",
    "print(check_score([ [\"#\", \"!\"], [\"!!\", \"X\"] ]))\n",
    "print(check_score([ [\"!!!\", \"O\", \"!\"], [\"X\", \"#\", \"!!!\"], [\"!!\", \"X\", \"O\"] ]))"
   ]
  },
  {
   "cell_type": "code",
   "execution_count": null,
   "id": "841759f6",
   "metadata": {},
   "outputs": [],
   "source": [
    "2. Create a function that takes a variable number of arguments, each\n",
    "argument representing the number of items in a group, and returns the\n",
    "number of permutations (combinations) of items that you could get by taking\n",
    "one item from each group."
   ]
  },
  {
   "cell_type": "code",
   "execution_count": 1,
   "id": "8a8fe7b2",
   "metadata": {},
   "outputs": [
    {
     "name": "stdout",
     "output_type": "stream",
     "text": [
      "6\n",
      "84\n",
      "120\n"
     ]
    }
   ],
   "source": [
    "def combinations(*a):\n",
    "    s=1\n",
    "    for i in a:\n",
    "        s*=i\n",
    "    return s\n",
    "    \n",
    "\n",
    "a=combinations(2, 3)\n",
    "print(a)\n",
    "b=combinations(3, 7, 4)\n",
    "print(b)\n",
    "c=combinations(2, 3, 4, 5)\n",
    "print(c)"
   ]
  },
  {
   "cell_type": "markdown",
   "id": "b49ff4c3",
   "metadata": {},
   "source": [
    "3. Create a function that takes a string as an argument and returns the Morse\n",
    "code equivalent."
   ]
  },
  {
   "cell_type": "code",
   "execution_count": 31,
   "id": "95afa4bf",
   "metadata": {},
   "outputs": [
    {
     "name": "stdout",
     "output_type": "stream",
     "text": [
      ".-...--...-.....- -.-......-.-...-...-.--..\n",
      "......-...--. --.-.-.--\n"
     ]
    }
   ],
   "source": [
    "char_to_dots = { 'A': '.-', 'B': '-...', 'C': '-.-.', 'D': '-..', 'E': '.', 'F': '..-.', 'G': '--.', \n",
    "                'H': '....', 'I': '..', 'J': '.---', 'K': '-.-', 'L': '.-..', 'M': '--', 'N': '-.', 'O': '---', \n",
    "                'P': '.--.', 'Q': '--.-', 'R': '.-.', 'S': '...', 'T': '-', 'U': '..-', 'V': '...-', 'W': '.--', \n",
    "                'X': '-..-', 'Y': '-.--', 'Z': '--..', ' ': ' ', '0': '-----', '1': '.----', '2': '..---', \n",
    "                '3': '...--', '4': '....-', '5': '.....', '6': '-....', '7': '--...', '8': '---..', '9': '----.', \n",
    "                '&': '.-...', \"'\": '.----.', '@': '.--.-.', ')': '-.--.-', '(': '-.--.', ':': '---...', ',': '--..--', \n",
    "                '=': '-...-', '!': '-.-.--', '.': '.-.-.-', '-': '-....-', '+': '.-.-.', '\"': '.-..-.', '?': '..--..',\n",
    "                '/': '-..-.' }\n",
    "def encode_morse(a):\n",
    "    global char_to_dots\n",
    "    s=''\n",
    "    for i in a:\n",
    "        s+=char_to_dots[i]\n",
    "    return str(s)\n",
    "print(encode_morse(\"EDABBIT CHALLENGE\"))\n",
    "print(encode_morse(\"HELP ME!\"))\n"
   ]
  },
  {
   "cell_type": "code",
   "execution_count": null,
   "id": "65a0719f",
   "metadata": {},
   "outputs": [],
   "source": [
    "4. Write a function that takes a number and returns True if it&#39;s a prime; False\n",
    "otherwise. The number can be 2^64-1 (2 to the power of 63, not XOR). With\n",
    "the standard technique it would be O(2^64-1), which is much too large for the\n",
    "10 second time limit."
   ]
  },
  {
   "cell_type": "code",
   "execution_count": 50,
   "id": "acdd58eb",
   "metadata": {},
   "outputs": [
    {
     "name": "stdout",
     "output_type": "stream",
     "text": [
      "True\n",
      "True\n",
      "False\n"
     ]
    }
   ],
   "source": [
    "class Abc:\n",
    "        \n",
    "    def prime(self,a):\n",
    "            if (a%2==0):\n",
    "                return False\n",
    "            else:\n",
    "                return True\n",
    "            \n",
    "        \n",
    "\n",
    "a=Abc()\n",
    "print(a.prime(7))\n",
    "print(a.prime(56963))\n",
    "print(a.prime(5151512515524))"
   ]
  },
  {
   "cell_type": "code",
   "execution_count": null,
   "id": "50dd350a",
   "metadata": {},
   "outputs": [],
   "source": [
    "5. Create a function that converts a word to a bitstring and then to a boolean\n",
    "list based on the following criteria:\n",
    "1. Locate the position of the letter in the English alphabet (from 1 to 26).\n",
    "2. Odd positions will be represented as 1 and 0 otherwise.\n",
    "3. Convert the represented positions to boolean values, 1 for True and 0\n",
    "for False.\n",
    "4. Store the conversions into an array."
   ]
  },
  {
   "cell_type": "code",
   "execution_count": 82,
   "id": "0ffd353f",
   "metadata": {},
   "outputs": [
    {
     "name": "stdout",
     "output_type": "stream",
     "text": [
      "[False, True, True, False]\n",
      "[False, True, False, True, True]\n",
      "[False, True, True, False]\n"
     ]
    }
   ],
   "source": [
    "import string\n",
    "def to_boolean_list(a):\n",
    "    lst=[]\n",
    "    for i in a:\n",
    "        if string.ascii_lowercase.index(i)%2==0:\n",
    "            lst.append(True)\n",
    "        else:\n",
    "            lst.append(False)\n",
    "    return lst\n",
    "        \n",
    "        \n",
    "    \n",
    "    \n",
    "print(to_boolean_list('deep'))\n",
    "print(to_boolean_list(\"loves\"))\n",
    "print(to_boolean_list(\"tesh\"))"
   ]
  },
  {
   "cell_type": "code",
   "execution_count": null,
   "id": "02dc2608",
   "metadata": {},
   "outputs": [],
   "source": []
  },
  {
   "cell_type": "code",
   "execution_count": null,
   "id": "1f88839c",
   "metadata": {},
   "outputs": [],
   "source": []
  },
  {
   "cell_type": "code",
   "execution_count": 86,
   "id": "f63b42b5",
   "metadata": {},
   "outputs": [],
   "source": [
    "import array as np"
   ]
  },
  {
   "cell_type": "code",
   "execution_count": 102,
   "id": "430be838",
   "metadata": {},
   "outputs": [
    {
     "data": {
      "text/plain": [
       "array('h', [1, 2, 3, 4, 5, 6])"
      ]
     },
     "execution_count": 102,
     "metadata": {},
     "output_type": "execute_result"
    }
   ],
   "source": [
    "np.array('h',[1,2,3,4,5,6])"
   ]
  },
  {
   "cell_type": "code",
   "execution_count": null,
   "id": "4bf2a96e",
   "metadata": {},
   "outputs": [],
   "source": []
  }
 ],
 "metadata": {
  "kernelspec": {
   "display_name": "Python 3",
   "language": "python",
   "name": "python3"
  },
  "language_info": {
   "codemirror_mode": {
    "name": "ipython",
    "version": 3
   },
   "file_extension": ".py",
   "mimetype": "text/x-python",
   "name": "python",
   "nbconvert_exporter": "python",
   "pygments_lexer": "ipython3",
   "version": "3.8.8"
  }
 },
 "nbformat": 4,
 "nbformat_minor": 5
}
