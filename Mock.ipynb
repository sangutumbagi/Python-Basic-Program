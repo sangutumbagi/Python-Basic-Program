{
 "cells": [
  {
   "cell_type": "code",
   "execution_count": 223,
   "id": "71a7f3b2",
   "metadata": {},
   "outputs": [
    {
     "name": "stdout",
     "output_type": "stream",
     "text": [
      "old string:= This is a placement assignment\n",
      "replaced string:= This is a screening assignment\n"
     ]
    }
   ],
   "source": [
    "def function(filename,filemode,originalfilecontent):\n",
    "    \n",
    "    try:\n",
    "        with open(filename,filemode) as p:\n",
    "            p.write(originalfilecontent)\n",
    "            p.seek(0)\n",
    "            a=p.readlines()[0]\n",
    "            print('old string:=',a)\n",
    "            m=a.replace('placement','screening')\n",
    "        with  open(filename,'r+') as s:\n",
    "            s.write(m)\n",
    "            s.seek(0)\n",
    "            print('replaced string:=',s.readlines()[0])\n",
    "\n",
    "    except Exception as p:\n",
    "        print(p)\n",
    "        \n",
    "function('example.txt','r+','This is a placement assignment')\n",
    "        "
   ]
  },
  {
   "cell_type": "code",
   "execution_count": 224,
   "id": "0ad55477",
   "metadata": {},
   "outputs": [],
   "source": [
    "\"\"\"if class contains one or more abstract method it is consider as abstract class .\n",
    "you know the method but you don\"t the logic that time used abstract class \"\"\"\n",
    "\"we can't create the object of the abstratc class\"\n",
    "\n",
    "\n",
    "from abc import ABC,abstractmethod\n",
    "class car(ABC):\n",
    "    @abstractmethod\n",
    "    def milage(self):\n",
    "        pass\n",
    "    \n",
    "\n",
    "\n"
   ]
  },
  {
   "cell_type": "markdown",
   "id": "651efcc8",
   "metadata": {},
   "source": [
    "# \"multiple inheritance\""
   ]
  },
  {
   "cell_type": "code",
   "execution_count": 226,
   "id": "379dd36b",
   "metadata": {},
   "outputs": [],
   "source": [
    "\"\"\"multiple parents and  single child class it is called as multiple ineheritance .\n",
    "python supports the multiple inhertance\"\"\"\n",
    "\n",
    "class a:\n",
    "    pass\n",
    "class b:\n",
    "    pass\n",
    "class c:\n",
    "    pass\n",
    "\n",
    "class d(c,b,a):\n",
    "    pass\n",
    "s=d()\n"
   ]
  },
  {
   "cell_type": "markdown",
   "id": "7e8b69fe",
   "metadata": {},
   "source": [
    "# Decorator"
   ]
  },
  {
   "cell_type": "code",
   "execution_count": 228,
   "id": "20b5a0de",
   "metadata": {},
   "outputs": [
    {
     "data": {
      "text/plain": [
       "'SANGAMESH'"
      ]
     },
     "execution_count": 228,
     "metadata": {},
     "output_type": "execute_result"
    }
   ],
   "source": [
    "\"\"\"decorator  chaning the behaviour of the function without \n",
    "explicitly changing it structre it is class as decorator\"\"\"\n",
    "\n",
    "def function(fun):\n",
    "    def inner(a):\n",
    "        return a.upper()\n",
    "    \n",
    "    return inner\n",
    "    \n",
    "        \n",
    "@function\n",
    "def outer(name):\n",
    "    return name\n",
    "outer('Sangamesh')\n",
    "\n",
    "\n"
   ]
  },
  {
   "cell_type": "code",
   "execution_count": null,
   "id": "43919dd9",
   "metadata": {},
   "outputs": [],
   "source": []
  }
 ],
 "metadata": {
  "kernelspec": {
   "display_name": "Python 3",
   "language": "python",
   "name": "python3"
  },
  "language_info": {
   "codemirror_mode": {
    "name": "ipython",
    "version": 3
   },
   "file_extension": ".py",
   "mimetype": "text/x-python",
   "name": "python",
   "nbconvert_exporter": "python",
   "pygments_lexer": "ipython3",
   "version": "3.8.8"
  }
 },
 "nbformat": 4,
 "nbformat_minor": 5
}
