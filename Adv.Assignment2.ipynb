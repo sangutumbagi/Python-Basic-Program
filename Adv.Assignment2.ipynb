{
 "cells": [
  {
   "cell_type": "code",
   "execution_count": null,
   "id": "05af90ec",
   "metadata": {},
   "outputs": [],
   "source": [
    "1. Write a function that takes a positive integer num and calculates how many\n",
    "dots exist in a pentagonal shape around the center dot on the Nth iteration.\n",
    "In the image below you can see the first iteration is only a single dot. On the\n",
    "second, there are 6 dots. On the third, there are 16 dots, and on the fourth\n",
    "there are 31 dots."
   ]
  },
  {
   "cell_type": "code",
   "execution_count": 157,
   "id": "73dba4b3",
   "metadata": {},
   "outputs": [
    {
     "name": "stdout",
     "output_type": "stream",
     "text": [
      "1\n",
      "6\n",
      "16\n",
      "141\n"
     ]
    }
   ],
   "source": [
    "def pentagonal(n):\n",
    "    return (5*n*n-5*n+2)//2\n",
    "\n",
    "print(pentagonal(1))\n",
    "print(pentagonal(2))\n",
    "print(pentagonal(3))\n",
    "print(pentagonal(8))"
   ]
  },
  {
   "cell_type": "code",
   "execution_count": null,
   "id": "f46fcc4f",
   "metadata": {},
   "outputs": [],
   "source": [
    "2. Make a function that encrypts a given input with these steps:"
   ]
  },
  {
   "cell_type": "code",
   "execution_count": 153,
   "id": "ce4e6b66",
   "metadata": {},
   "outputs": [
    {
     "name": "stdout",
     "output_type": "stream",
     "text": [
      "1lpp0\n",
      "0n0n0b\n",
      "0c0r0k\n",
      "k0r4b\n",
      "0c0pl0\n"
     ]
    }
   ],
   "source": [
    "\n",
    "def encrypt(a):\n",
    "    s=''\n",
    "    for j in ''.join(reversed(a)):\n",
    "        if j=='a':\n",
    "            s+='0'\n",
    "        elif j=='e':\n",
    "            s+='1'\n",
    "        elif j=='i':\n",
    "            s+='2'\n",
    "        elif j=='o':\n",
    "            print(3)\n",
    "        elif j=='u':\n",
    "            s+='4'\n",
    "        else:\n",
    "            s+=j\n",
    "    return s\n",
    "     \n",
    "            \n",
    "print(encrypt('apple'))\n",
    "print(encrypt(\"banana\"))\n",
    "print(encrypt(\"karaca\"))\n",
    "print(encrypt(\"burak\"))\n",
    "print(encrypt(\"alpaca\"))\n",
    "    "
   ]
  },
  {
   "cell_type": "code",
   "execution_count": null,
   "id": "343e5289",
   "metadata": {},
   "outputs": [],
   "source": [
    "3. Given the month and year as numbers, return whether that month contains\n",
    "a Friday 13th.(i.e You can check Python&#39;s datetime module)\n",
    "            "
   ]
  },
  {
   "cell_type": "markdown",
   "id": "a3771386",
   "metadata": {},
   "source": [
    "import datetime\n",
    "import calendar\n",
    " \n",
    "def has_friday_13(month,year):\n",
    "    born = datetime.datetime.strptime(str(month)+' '+str(year), '%m %Y').weekday()\n",
    "    if (calendar.day_name[born])=='Friday':\n",
    "        return True\n",
    "    else:\n",
    "        return False\n",
    " \n",
    "\n",
    "\n",
    "print(has_friday_13(5, 2020))\n",
    "print(has_friday_13(10, 2017))\n",
    "print(has_friday_13(1, 1985))"
   ]
  },
  {
   "cell_type": "code",
   "execution_count": null,
   "id": "4d4ffbf0",
   "metadata": {},
   "outputs": [],
   "source": [
    "4. Write a regular expression that will help us count how many bad cookies\n",
    "are produced every day. You must use RegEx negative lookbehind."
   ]
  },
  {
   "cell_type": "code",
   "execution_count": 74,
   "id": "b9f6ed12",
   "metadata": {},
   "outputs": [
    {
     "data": {
      "text/plain": [
       "2"
      ]
     },
     "execution_count": 74,
     "metadata": {},
     "output_type": "execute_result"
    }
   ],
   "source": [
    "import re\n",
    "lst = [\"bad cookie\", \"good cookie\", \"bad cookie\", \"good cookie\", \"good cookie\"]\n",
    "pattern = \"bad cookie\"\n",
    "len(re.findall(pattern,\";\".join(lst)))\n"
   ]
  },
  {
   "cell_type": "code",
   "execution_count": null,
   "id": "f96ebe12",
   "metadata": {},
   "outputs": [],
   "source": [
    "5. Given a list of words in the singular form, return a set of those words in the\n",
    "plural form if they appear more than once in the list."
   ]
  },
  {
   "cell_type": "code",
   "execution_count": 9,
   "id": "4efe8b28",
   "metadata": {},
   "outputs": [
    {
     "name": "stdout",
     "output_type": "stream",
     "text": [
      "{'pig', 'cows'}\n",
      "{'tables'}\n",
      "{'arm', 'pencil', 'chair'}\n"
     ]
    }
   ],
   "source": [
    "def pluralize(a):\n",
    "    s1=set()\n",
    "    for i in a:\n",
    "        if a.count(i)>1:\n",
    "            s1.add(i+'s')\n",
    "        else:\n",
    "            s1.add(i)\n",
    "    return s1\n",
    "            \n",
    "            \n",
    "            \n",
    "\n",
    "print(pluralize([\"cow\", \"pig\", \"cow\", \"cow\"]))\n",
    "print(pluralize([\"table\", \"table\", \"table\"]))\n",
    "print(pluralize([\"chair\", \"pencil\", \"arm\"]))"
   ]
  },
  {
   "cell_type": "code",
   "execution_count": null,
   "id": "fcfc6067",
   "metadata": {},
   "outputs": [],
   "source": []
  }
 ],
 "metadata": {
  "kernelspec": {
   "display_name": "Python 3",
   "language": "python",
   "name": "python3"
  },
  "language_info": {
   "codemirror_mode": {
    "name": "ipython",
    "version": 3
   },
   "file_extension": ".py",
   "mimetype": "text/x-python",
   "name": "python",
   "nbconvert_exporter": "python",
   "pygments_lexer": "ipython3",
   "version": "3.8.8"
  }
 },
 "nbformat": 4,
 "nbformat_minor": 5
}
