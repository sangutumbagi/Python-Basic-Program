{
 "cells": [
  {
   "cell_type": "markdown",
   "id": "c327d720",
   "metadata": {},
   "source": [
    "1. Create a function to perform basic arithmetic operations that includes\n",
    "addition, subtraction, multiplication and division on a string number (e.g. &quot;12 +\n",
    "24&quot; or &quot;23 - 21&quot; or &quot;12 // 12&quot; or &quot;12 * 21&quot;)."
   ]
  },
  {
   "cell_type": "code",
   "execution_count": 45,
   "id": "bec012eb",
   "metadata": {},
   "outputs": [
    {
     "name": "stdout",
     "output_type": "stream",
     "text": [
      "36\n",
      "2\n",
      "1\n",
      "144\n"
     ]
    }
   ],
   "source": [
    "def arithmetic_operation(a):\n",
    "    v=a.split()\n",
    "    for i in v:\n",
    "        if i=='+':\n",
    "            print(int(v[0])+int(v[2]))\n",
    "        elif i=='-':\n",
    "            print(int(v[0])-int(v[2]))\n",
    "        elif i=='//':\n",
    "            print(int(v[0])//int(v[2]))\n",
    "        elif i=='*':\n",
    "            print(int(v[0])*int(v[2]))\n",
    "            \n",
    "            \n",
    "arithmetic_operation('12 + 24')\n",
    "arithmetic_operation('23 - 21')\n",
    "arithmetic_operation('12 // 12')\n",
    "arithmetic_operation('12 * 12')\n"
   ]
  },
  {
   "cell_type": "code",
   "execution_count": 46,
   "id": "5c4ff2bd",
   "metadata": {},
   "outputs": [
    {
     "name": "stdout",
     "output_type": "stream",
     "text": [
      "120\n"
     ]
    }
   ],
   "source": [
    "3. A city skyline can be represented as a 2-D list with 1s representing\n",
    "buildings. In the example below, the height of the tallest building is 4 (second-\n",
    "most right column).\n",
    "[[0, 0, 0, 0, 0, 0],\n",
    "[0, 0, 0, 0, 1, 0],\n",
    "[0, 0, 1, 0, 1, 0],\n",
    "[0, 1, 1, 1, 1, 0],\n",
    "\n",
    "[1, 1, 1, 1, 1, 1]]\n",
    "Create a function that takes a skyline (2-D list of 0&#39;s and 1&#39;s) and returns the\n",
    "height of the tallest skyscraper."
   ]
  },
  {
   "cell_type": "code",
   "execution_count": 55,
   "id": "d9c529aa",
   "metadata": {},
   "outputs": [
    {
     "name": "stdout",
     "output_type": "stream",
     "text": [
      "3\n",
      "4\n",
      "2\n"
     ]
    }
   ],
   "source": [
    "def tallest_skyscraper(a):\n",
    "    s=0\n",
    "    for i in a:\n",
    "        if 1  in i:\n",
    "            s+=1\n",
    "    return s\n",
    "            \n",
    "    \n",
    "print(tallest_skyscraper([[0, 0, 0, 0],[0, 1, 0, 0],[0, 1, 1, 0],[1, 1, 1, 1]]))\n",
    "print(tallest_skyscraper([\n",
    "[0, 1, 0, 0],\n",
    "[0, 1, 0, 0],\n",
    "[0, 1, 1, 0],\n",
    "[1, 1, 1, 1]\n",
    "]))\n",
    "print(tallest_skyscraper([\n",
    "[0, 0, 0, 0],\n",
    "[0, 0, 0, 0],\n",
    "[1, 1, 1, 0],\n",
    "[1, 1, 1, 1]\n",
    "]))"
   ]
  },
  {
   "cell_type": "code",
   "execution_count": null,
   "id": "a1cc6eb6",
   "metadata": {},
   "outputs": [],
   "source": [
    "2. Write a function that takes the coordinates of three points in the form of a\n",
    "2d array and returns the perimeter of the triangle. The given points are the\n",
    "vertices of a triangle on a two-dimensional plane."
   ]
  },
  {
   "cell_type": "code",
   "execution_count": 37,
   "id": "386403ec",
   "metadata": {},
   "outputs": [
    {
     "name": "stdout",
     "output_type": "stream",
     "text": [
      "47.08\n",
      "3.41\n",
      "68.28\n"
     ]
    }
   ],
   "source": [
    "from math import sqrt as sq\n",
    "def perimeter(a):\n",
    "    dict1={}\n",
    "    lst=[j for i in a for j in i]\n",
    "    for i in range(len(lst)):\n",
    "        dict1.update({'x'+str(i):lst[i]})\n",
    "    ab=sq((dict1['x2']-dict1['x0'])**2+(dict1['x3']-dict1['x1'])**2)\n",
    "  \n",
    "    bc=sq((dict1['x4']-dict1['x2'])**2+(dict1['x5']-dict1['x3'])**2)\n",
    "\n",
    "    ca=sq((dict1['x0']-dict1['x4'])**2+(dict1['x1']-dict1['x5'])**2)\n",
    "    return round(ab+bc+ca,2)\n",
    "    \n",
    "    \n",
    "    \n",
    "    \n",
    "print(perimeter([ [15, 7], [5, 22], [11, 1] ] ))\n",
    "print(perimeter( [ [0, 0], [0, 1], [1, 0] ] ))\n",
    "print(perimeter( [ [-10, -10], [10, 10 ], [-10, 10] ] ))"
   ]
  },
  {
   "cell_type": "code",
   "execution_count": null,
   "id": "e22b4f6c",
   "metadata": {},
   "outputs": [],
   "source": []
  },
  {
   "cell_type": "code",
   "execution_count": null,
   "id": "9d07b5bf",
   "metadata": {},
   "outputs": [],
   "source": []
  },
  {
   "cell_type": "code",
   "execution_count": null,
   "id": "ef32feca",
   "metadata": {},
   "outputs": [],
   "source": [
    "5. A number is said to be Disarium if the sum of its digits raised to their\n",
    "respective positions is the number itself.\n",
    "Create a function that determines whether a number is a Disarium or not."
   ]
  },
  {
   "cell_type": "code",
   "execution_count": 118,
   "id": "38993e5d",
   "metadata": {},
   "outputs": [
    {
     "name": "stdout",
     "output_type": "stream",
     "text": [
      "False\n",
      "True\n",
      "False\n",
      "True\n",
      "False\n",
      "True\n"
     ]
    }
   ],
   "source": [
    "class Disarium:\n",
    "    def __init__(self):\n",
    "        self.a=a\n",
    "    def fun(self,a):\n",
    "        string=str(a)\n",
    "        length=len(str(a))\n",
    "        number=0\n",
    "        for i in range(length):\n",
    "            number+=int(string[i])**(i+1)\n",
    "        if number==a:\n",
    "            return True\n",
    "        else:\n",
    "            return False\n",
    "            \n",
    "            \n",
    "        \n",
    "            \n",
    "        \n",
    "a=Disarium()\n",
    "print(a.fun(75))\n",
    "print(a.fun(135))\n",
    "print(a.fun(544))\n",
    "print(a.fun(518))\n",
    "print(a.fun(466))\n",
    "print(a.fun(8))\n",
    "\n",
    "\n",
    "\n"
   ]
  },
  {
   "cell_type": "code",
   "execution_count": 107,
   "id": "7c0fbe4b",
   "metadata": {},
   "outputs": [
    {
     "data": {
      "text/plain": [
       "7"
      ]
     },
     "execution_count": 107,
     "metadata": {},
     "output_type": "execute_result"
    }
   ],
   "source": [
    "7**1"
   ]
  },
  {
   "cell_type": "code",
   "execution_count": null,
   "id": "335f7bd1",
   "metadata": {},
   "outputs": [],
   "source": []
  }
 ],
 "metadata": {
  "kernelspec": {
   "display_name": "Python 3",
   "language": "python",
   "name": "python3"
  },
  "language_info": {
   "codemirror_mode": {
    "name": "ipython",
    "version": 3
   },
   "file_extension": ".py",
   "mimetype": "text/x-python",
   "name": "python",
   "nbconvert_exporter": "python",
   "pygments_lexer": "ipython3",
   "version": "3.8.8"
  }
 },
 "nbformat": 4,
 "nbformat_minor": 5
}
