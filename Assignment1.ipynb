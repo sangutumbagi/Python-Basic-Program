{
 "cells": [
  {
   "cell_type": "code",
   "execution_count": 1,
   "id": "19a865c8",
   "metadata": {},
   "outputs": [],
   "source": [
    "# Write a Python program to print 'Hello Python'?"
   ]
  },
  {
   "cell_type": "code",
   "execution_count": 4,
   "id": "277d13cd",
   "metadata": {},
   "outputs": [
    {
     "name": "stdout",
     "output_type": "stream",
     "text": [
      "Hello Python\n"
     ]
    }
   ],
   "source": [
    "def fun():\n",
    "    return \"Hello Python\"\n",
    "print(fun())"
   ]
  },
  {
   "cell_type": "code",
   "execution_count": 5,
   "id": "ca27637b",
   "metadata": {},
   "outputs": [],
   "source": [
    "#Write a Python program to do arithmetical operations addition and division.?"
   ]
  },
  {
   "cell_type": "code",
   "execution_count": 6,
   "id": "b01eb330",
   "metadata": {},
   "outputs": [
    {
     "data": {
      "text/plain": [
       "(40, -20, 300, 0, 0.3333333333333333)"
      ]
     },
     "execution_count": 6,
     "metadata": {},
     "output_type": "execute_result"
    }
   ],
   "source": [
    "def operators(a,b):\n",
    "    return a+b,a-b,a*b,a//b,a/b\n",
    "operators(10,30)\n",
    "    "
   ]
  },
  {
   "cell_type": "code",
   "execution_count": 7,
   "id": "df1d1103",
   "metadata": {},
   "outputs": [],
   "source": [
    "#Write a Python program to find the area of a triangle?"
   ]
  },
  {
   "cell_type": "code",
   "execution_count": 12,
   "id": "ba8c3d63",
   "metadata": {},
   "outputs": [
    {
     "data": {
      "text/plain": [
       "15.0"
      ]
     },
     "execution_count": 12,
     "metadata": {},
     "output_type": "execute_result"
    }
   ],
   "source": [
    "def traningle(b,h):\n",
    "    a=b*h/2\n",
    "    return a\n",
    "\n",
    "    \n",
    "traningle(5,6)"
   ]
  },
  {
   "cell_type": "code",
   "execution_count": 13,
   "id": "37a8e841",
   "metadata": {},
   "outputs": [],
   "source": [
    "#Write a Python program to swap two variables?"
   ]
  },
  {
   "cell_type": "code",
   "execution_count": 18,
   "id": "f14422de",
   "metadata": {},
   "outputs": [
    {
     "name": "stdout",
     "output_type": "stream",
     "text": [
      "10\n",
      "20\n",
      "20\n",
      "10\n"
     ]
    }
   ],
   "source": [
    "a=10\n",
    "b=20\n",
    "print(a)\n",
    "print(b)\n",
    "b,a=a,b\n",
    "print(a)\n",
    "print(b)"
   ]
  },
  {
   "cell_type": "code",
   "execution_count": 19,
   "id": "fae608ba",
   "metadata": {},
   "outputs": [],
   "source": [
    "#Write a Python program to generate a random number?"
   ]
  },
  {
   "cell_type": "code",
   "execution_count": 21,
   "id": "a0eaeed2",
   "metadata": {},
   "outputs": [],
   "source": [
    "import random as nr"
   ]
  },
  {
   "cell_type": "code",
   "execution_count": 27,
   "id": "6700ee1e",
   "metadata": {},
   "outputs": [
    {
     "data": {
      "text/plain": [
       "0.6831268443689362"
      ]
     },
     "execution_count": 27,
     "metadata": {},
     "output_type": "execute_result"
    }
   ],
   "source": [
    "nr.random()"
   ]
  },
  {
   "cell_type": "code",
   "execution_count": null,
   "id": "0a0fb9c8",
   "metadata": {},
   "outputs": [],
   "source": []
  }
 ],
 "metadata": {
  "kernelspec": {
   "display_name": "Python 3",
   "language": "python",
   "name": "python3"
  },
  "language_info": {
   "codemirror_mode": {
    "name": "ipython",
    "version": 3
   },
   "file_extension": ".py",
   "mimetype": "text/x-python",
   "name": "python",
   "nbconvert_exporter": "python",
   "pygments_lexer": "ipython3",
   "version": "3.8.8"
  }
 },
 "nbformat": 4,
 "nbformat_minor": 5
}
